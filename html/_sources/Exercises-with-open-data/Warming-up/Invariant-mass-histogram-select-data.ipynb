{
 "cells": [
  {
   "cell_type": "markdown",
   "metadata": {},
   "source": [
    "### Background "
   ]
  },
  {
   "cell_type": "markdown",
   "metadata": {},
   "source": [
    "This notebook includes an example exercise about observing how the amount of data affects to the histogram made from that data. The exercise consists of a theory part and a practical part."
   ]
  },
  {
   "cell_type": "markdown",
   "metadata": {},
   "source": [
    "# Example: Invariant mass histogram"
   ]
  },
  {
   "cell_type": "markdown",
   "metadata": {},
   "source": [
    "In this exercise the CMS (Compact Muon Solenoid) detector and the concept of invariant mass are introduced. With the real data collected by CMS detector, the effect of the amount of data on the histogram of that data is observed."
   ]
  },
  {
   "cell_type": "markdown",
   "metadata": {},
   "source": [
    "### CMS detector"
   ]
  },
  {
   "cell_type": "markdown",
   "metadata": {},
   "source": [
    "At CERN, particles are accelerated and collided with the LHC (Large Hadron Collider) particle accelerator. With the CMS detector, the new particles created in these collisions can be observed and measured. The picture below shows the inside of the CMS detector.\n",
    "\n",
    "<img src=\"../../Images/CMS.jpg\" alt=\"CMS-ilmaisin avattuna\" style=\"height: 400px\">\n",
    "\n",
    "(Image: Domenico Salvagnin, https://commons.wikimedia.org/wiki/File:CMS@CERN.jpg)\n",
    "<br>\n",
    "<br>\n",
    "<br>"
   ]
  },
  {
   "cell_type": "markdown",
   "metadata": {},
   "source": [
    "### Invariant mass"
   ]
  },
  {
   "cell_type": "markdown",
   "metadata": {},
   "source": [
    "Invariant mass $M$ is a value that can be calculated from the results of measurements from the CMS detector. Invariant mass is a mathematical concept, not a physical mass.\n",
    "\n",
    "For example, let us take a situation where a particle A decays into two particles B and C. The invariant mass of the two particles B and C is determined by the equation\n",
    "\n",
    "$$ M = \\sqrt{(E_1 + E_2)^2-(\\vec{p_1} + \\vec{p_2})^2}, $$\n",
    "\n",
    "where $E_1$ and $E_2$ are the energies of the decay products and $\\vec{p_1}$ and $\\vec{p_2}$ the momenta of the decay products.\n",
    "\n",
    "The invariant mass can be used to determine the existence of the particle A. If particles B and C stem from the decay of particle A, their invariant mass equals the physical mass of particle A. If particles B and C stem from some other process than the decay of A (there are an enormous amount of processes in particle collisions), the invariant mass of B and C is something else.\n",
    "\n",
    "So by determing the energies and the momenta of B and C, their invariant mass can be calculated. This can be done for large amounts of particle pairs, and in doing so we may show the existence of particle A.\n",
    "\n",
    "In this exercise the values of the invariant masses are already calculated."
   ]
  },
  {
   "cell_type": "markdown",
   "metadata": {},
   "source": [
    "### Try it!"
   ]
  },
  {
   "cell_type": "markdown",
   "metadata": {},
   "source": [
    "Let us start by looking at the data collected by CMS detector. We will focus on the decay of Z-boson to two muons (muon and antimuon pair).\n",
    "\n",
    "We will use the data collected in 2011 [1]. From the primary dataset, 10851 collision events where were exactly two muons have been selected in the file \"Zmumu_Run2011A_masses.csv\". (The selection has been done with the code that is openly available at https://github.com/tpmccauley/dimuon-filter.)\n",
    "\n",
    "The file includes already-calculated values of the invariant masses of two muons for the 10851 events. A histogram is a great tool for observing these values. The histogram represents how many events there are within a certain range of values of $M$.\n",
    "\n",
    "In the next exercise, the goal is to examine __how the amount of data used affects the histogram of that data.__\n",
    "<br>\n",
    "<br>\n",
    "<br>\n",
    "[1]  CMS collaboration (2016). DoubleMu primary dataset in AOD format from RunA of 2011 (/DoubleMu/Run2011A-12Oct2013-v1/AOD). CERN Open Data Portal. DOI: [10.7483/OPENDATA.CMS.RZ34.QR6N](http://doi.org/10.7483/OPENDATA.CMS.RZ34.QR6N)."
   ]
  },
  {
   "cell_type": "markdown",
   "metadata": {},
   "source": [
    "### 1) Getting the file and the masses"
   ]
  },
  {
   "cell_type": "markdown",
   "metadata": {},
   "source": [
    "Let us start by importing the necessary Python modules the data. After that you can move to the part two. You might get a warning related to the _matplotlib_ module but you do not have to worry about that in this exercise."
   ]
  },
  {
   "cell_type": "code",
   "execution_count": null,
   "metadata": {},
   "outputs": [],
   "source": [
    "# Import the needed modules. Pandas is for the data-analysis, numpy for scientific calculation\n",
    "# and matplotlib.pyplot for making plots. Modules are named as pd, np and plt.\n",
    "import pandas as pd\n",
    "import numpy as np\n",
    "import matplotlib.pyplot as plt\n",
    "\n",
    "# Create a new DataFrame structure from the file \"Zmumu_Run2011A_masses.csv\"\n",
    "dataset = pd.read_csv('../../Data/Zmumu_Run2011A_masses.csv')\n",
    "\n",
    "# Create a Series structure (basically a list) and name it \"invariant_mass\".\n",
    "# Save the column \"M\" from the \"dataset\" to the variable \"invariant_mass\".\n",
    "invariant_mass = dataset['M']\n",
    "\n",
    "# Create an empty list \"selected\", where the selected amount of invariant masses will be saved.\n",
    "selected = []"
   ]
  },
  {
   "cell_type": "markdown",
   "metadata": {},
   "source": [
    "### Selecting the amount of data"
   ]
  },
  {
   "cell_type": "markdown",
   "metadata": {},
   "source": [
    "The code below asks how many events will be selected for the histogram. After, the code plots the histogram of the selected invariant masses.\n",
    "\n",
    "Examine how the amount of the data used affects the histogram. Which values of the invariant mass seem to come up the most? What can you conclude from those values?\n",
    "\n",
    "By examining the code, predict what will happen if you enter a number bigger than 10851 for the amount of data. Try your prediction by running the code."
   ]
  },
  {
   "cell_type": "code",
   "execution_count": null,
   "metadata": {},
   "outputs": [],
   "source": [
    "# Ask user to enter the number of events wanted. Save the number to the variable \"amount\".\n",
    "amount = int(input('Enter the amount of events wanted: '))\n",
    "\n",
    "# Check if user has selected more events than there are available.\n",
    "# If not, select that amount of invariant masses from the variable \"invariant_mass\".\n",
    "# Masses will be selected in order.\n",
    "if amount > 10851:\n",
    "    print('''You have tried to select more data than there are available in the file.\n",
    "The histogram could not be drawn. The maximum amount events is 10851.''')\n",
    "else:\n",
    "    for f in range(amount):\n",
    "        M = invariant_mass[f]\n",
    "        selected.append(M)\n",
    "    print('\\n You selected {} invariant mass values from the whole dataset.'.format(amount))\n",
    "\n",
    "# Jupyter Notebook uses \"magic functions\". With this function it is possible to plot\n",
    "# the histogram straight to notebook.\n",
    "%matplotlib inline\n",
    "\n",
    "# Create the histogram from data in variable \"selected\". Set bins and range of the histogram.\n",
    "plt.hist(selected, bins=120, range=(60,120))\n",
    "\n",
    "# Set y-axis from 0 to 800.\n",
    "axes = plt.gca()\n",
    "axes.set_ylim([0,800])\n",
    "\n",
    "# Name the axes and give a title.\n",
    "plt.xlabel('Invariant mass [GeV]')\n",
    "plt.ylabel('Number of events')\n",
    "plt.title('Histogram of invariant masses of two muons\\n')\n",
    "\n",
    "# Empty the variable \"selected\" for the next run.\n",
    "selected = []"
   ]
  },
  {
   "cell_type": "markdown",
   "metadata": {},
   "source": [
    "### 3) Evolution of the histogram when the amount of data increases"
   ]
  },
  {
   "cell_type": "markdown",
   "metadata": {},
   "source": [
    "Let us observe with a series of images how the histogram will change when the amount of data is increased.\n",
    "\n",
    "The code below will create 11 different histograms of invariant masses from the same data. Between every image, 1000 more values are added to the histogram. Observe the images and explain what you see."
   ]
  },
  {
   "cell_type": "code",
   "execution_count": null,
   "metadata": {
    "scrolled": false
   },
   "outputs": [],
   "source": [
    "# Loop where a new histogram is plotted after 1000 events until 10000 events have reached.\n",
    "for a in range(0,10851,1000):\n",
    "    T = invariant_mass[0:a]\n",
    "    \n",
    "    %matplotlib inline\n",
    "    plt.hist(T, bins=120, range=(60,120))\n",
    "    \n",
    "    # Set y-axis from 0 to 800.\n",
    "    axes = plt.gca()\n",
    "    axes.set_ylim([0,800])\n",
    "    \n",
    "    plt.xlabel('Invariant mass [GeV]')\n",
    "    plt.ylabel('Number of events')\n",
    "    plt.title('Histogram of invariant masses of two muons for {} events\\n'.format(len(T)))\n",
    "    plt.show()"
   ]
  },
  {
   "cell_type": "code",
   "execution_count": null,
   "metadata": {},
   "outputs": [],
   "source": []
  }
 ],
 "metadata": {
  "kernelspec": {
   "display_name": "Python 3",
   "language": "python",
   "name": "python3"
  },
  "language_info": {
   "codemirror_mode": {
    "name": "ipython",
    "version": 3
   },
   "file_extension": ".py",
   "mimetype": "text/x-python",
   "name": "python",
   "nbconvert_exporter": "python",
   "pygments_lexer": "ipython3",
   "version": "3.8.5"
  }
 },
 "nbformat": 4,
 "nbformat_minor": 1
}
