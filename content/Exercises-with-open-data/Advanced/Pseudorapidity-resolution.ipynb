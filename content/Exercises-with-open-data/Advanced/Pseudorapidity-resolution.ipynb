{
 "cells": [
  {
   "cell_type": "markdown",
   "metadata": {},
   "source": [
    "# The effect of the pseudorapidity on the resolution of the CMS detector TESTI"
   ]
  },
  {
   "cell_type": "markdown",
   "metadata": {},
   "source": [
    "In this excercise the CMS (Compact Muon Solenoid) detector and the concept of pseudorapidity are introduced. With the real data collected by CMS detector, the effect of the pseudorapidity on the resolution of the CMS detector is observed."
   ]
  },
  {
   "cell_type": "markdown",
   "metadata": {},
   "source": [
    "### CMS detector"
   ]
  },
  {
   "cell_type": "markdown",
   "metadata": {},
   "source": [
    "At CERN particles are accelerated and collided with the LHC (Large Hadron Collider) particle accelerator. With the CMS detector, the new particles created in these collisions can be observed and measured. The picture below shows the inside of the CMS detector.\n",
    "\n",
    "![Image of the CMS detector](../../images/CMS@CERN.jpg)\n",
    "(Picture: Domenico Salvagnin, https://commons.wikimedia.org/wiki/File:CMS@CERN.jpg)"
   ]
  },
  {
   "cell_type": "markdown",
   "metadata": {},
   "source": [
    "### Pseudorapidity"
   ]
  },
  {
   "cell_type": "markdown",
   "metadata": {},
   "source": [
    "In experimental particle physics, pseudorapidity $\\eta$ is a spatial coordinate used to describe the angle between a particle and the particle beam. Pseudorapidity is determined by the equation\n",
    "\n",
    "$$ \\eta \\equiv -\\ln(\\tan(\\frac{\\theta}{2})), $$\n",
    "\n",
    "where $\\theta$ is the angle of a particle relative to the particle beam.\n",
    "\n",
    "In the image below the particle beam would go horizontally from left to right. So with large values of $\\eta$, the direction of a particle created in the collision would differ only a little from the direction of the beam. With small values of $\\eta$ the deflection is larger.\n",
    "\n",
    "![Image of pseudorapidity values](../../images/Pseudorapidity_plot.png)\n",
    "\n",
    "(Image: Wikimedia user Mets501, Own work, CC BY-SA 3.0, https://commons.wikimedia.org/w/index.php?curid=20392149)"
   ]
  },
  {
   "cell_type": "markdown",
   "metadata": {},
   "source": [
    "### The effect of pseudorapidity on the resolution of the measurement"
   ]
  },
  {
   "cell_type": "markdown",
   "metadata": {},
   "source": [
    "With the CMS detector, the momenta of particles can be measured. Pseudorapidity $\\eta$ affects the resolution of the measurement of momenta, since the particles that hit in the center part of the detector (in the barrel) can be measured more accurately than the particles that hit at the end of the detector (in the endcap).\n",
    "\n",
    "In the image below there is a draft of the two particles created in the collision event. One hits the barrel of the detector and another hits the endcap. There are also the values of pseudorapidities $\\eta$ and the angles $\\theta$ of the particles.\n",
    "\n",
    "![Draft of the CMS detector](../../images/Sylinder.png)"
   ]
  },
  {
   "cell_type": "markdown",
   "metadata": {},
   "source": [
    "### Let's start!"
   ]
  },
  {
   "cell_type": "markdown",
   "metadata": {},
   "source": [
    "Let us start observing how the effect of pseudorapidity on the resolution of the measurement can be seen with the real data collected by the CMS detector.\n",
    "\n",
    "We will use the data collected in 2011 [1]. From the primary dataset, 10851 collision events where there were exactly two muons have been selected in the file \"Zmumu_Run2011A_masses.csv\". (The selection has been done with the code that is openly available at https://github.com/tpmccauley/dimuon-filter.) The measured momenta and energies of the muons are written in the file.\n",
    "\n",
    "From the measured values of momenta and energies, the invariant mass for muons for every event is calculated. Invariant mass is a mathematical concept, not a physical mass. Invariant mass is determined by the equation\n",
    "\n",
    "$$ M = \\sqrt{(E_1 + E_2)^2-(\\vec{p_1} + \\vec{p_2})^2}. $$\n",
    "\n",
    "In the equation, $E_1$ and $E_2$ are the energies of the muons and $\\vec{p_1}$ and $\\vec{p_2}$ the momenta of the muons.\n",
    "\n",
    "If the muon pair comes from the decay of a Z-boson, the invariant mass calculated for that muon pair equals the physical mass of the Z-boson (91.1876 GeV, [Particle Data Group](http://pdg.lbl.gov/2012/listings/rpp2012-list-z-boson.pdf)). If the two muons originate from some other process (there are a lot of different processes in the particle collisions) then the invariant mass calculated for them is some other value.\n",
    "\n",
    "Let us observe the invariant masses calculated from different events by plotting a histogram of them. The histogram shows us for how many events the value of the invariant mass is in the desired value range. With the histogram one can see how close to the Z-boson mass (91.1876 GeV) the different invariant mass values will be.\n",
    "<br>\n",
    "<br>\n",
    "<br>\n",
    "[1]  CMS collaboration (2016). DoubleMu primary dataset in AOD format from RunA of 2011 (/DoubleMu/Run2011A-12Oct2013-v1/AOD). CERN Open Data Portal. DOI: [10.7483/OPENDATA.CMS.RZ34.QR6N](http://doi.org/10.7483/OPENDATA.CMS.RZ34.QR6N)."
   ]
  },
  {
   "cell_type": "markdown",
   "metadata": {},
   "source": [
    "### 1) Selecting the events"
   ]
  },
  {
   "cell_type": "markdown",
   "metadata": {},
   "source": [
    "First, we will select from the data the events where the pseudorapidity of the two muons is relatively large (e.g. $\\eta$ > 1.52) and relatively small (e.g. $\\eta$ < 0.45). The selection is made with the code below. We want about the same amount of events in both groups so that a comparison can be made.\n"
   ]
  },
  {
   "cell_type": "code",
   "execution_count": null,
   "metadata": {},
   "outputs": [],
   "source": [
    "# Import the needed modules. Pandas is for the data-analysis, numpy for scientific calculation\n",
    "# and matplotlib.pyplot for making plots. Modules are named as pd, np and plt.\n",
    "import pandas as pd\n",
    "import numpy as np\n",
    "import matplotlib.pyplot as plt\n",
    "\n",
    "# Create a new DataFrame structure from the file \"Zmumu_Run2011A_masses.csv\"\n",
    "dataset = pd.read_csv('../../Data/Zmumu_Run2011A_masses.csv')\n",
    "\n",
    "# Set the conditions for large and small etas. These can be changed, but take care that\n",
    "#the same amount of events is selected for both groups.\n",
    "cond1 = 1.52\n",
    "cond2 = 0.45\n",
    "\n",
    "# Create two DataFrames. Save to the variable \"large_etas\" events where the pseudorapidities\n",
    "# of the both muons are larger than \"cond1\". Save to \"small_etas\" events where\n",
    "# the pseudorapidities of the both muons are smaller than \"cond2\".\n",
    "large_etas = dataset[(np.absolute(dataset.eta1) > cond1) & (np.absolute(dataset.eta2) > cond1)]\n",
    "small_etas = dataset[(np.absolute(dataset.eta1) < cond2) & (np.absolute(dataset.eta2) < cond2)]\n",
    "\n",
    "# Print two empty lines for better design.\n",
    "print('\\n' * 2)\n",
    "\n",
    "print('The amount of all events = %d' % len(dataset))\n",
    "print('The amount of events where the pseudorapidity of both muons is large = %d' %len(large_etas))\n",
    "print('The amount of events where the pseudorapidity of both muons is small = %d' %len(small_etas))"
   ]
  },
  {
   "cell_type": "markdown",
   "metadata": {},
   "source": [
    "### 2) Creating the histograms"
   ]
  },
  {
   "cell_type": "markdown",
   "metadata": {},
   "source": [
    "Next we will create separate histograms of the invariant masses for the events with large pseudorapidities and those with small pseudorapidities. With the histograms we can compare these two situations."
   ]
  },
  {
   "cell_type": "markdown",
   "metadata": {},
   "source": [
    "### Histogram for the large $\\eta$ events "
   ]
  },
  {
   "cell_type": "markdown",
   "metadata": {},
   "source": [
    "Let us start with the events where the pseudorapidity of both muons is large. "
   ]
  },
  {
   "cell_type": "code",
   "execution_count": null,
   "metadata": {},
   "outputs": [],
   "source": [
    "# Save the invariant masses to variable \"inv_mass1\".\n",
    "inv_mass1 = large_etas['M']\n",
    "\n",
    "# Jupyter Notebook uses \"magic functions\". With this function it is possible to plot\n",
    "# the histogram straight to notebook.\n",
    "%matplotlib inline\n",
    "\n",
    "# Create the histogram from data in variable \"inv_mass1\". Set bins and range.\n",
    "plt.hist(inv_mass1, bins=120, range=(60,120))\n",
    "\n",
    "# Set y-axis range from 0 to 60.\n",
    "axes = plt.gca()\n",
    "axes.set_ylim([0,60])\n",
    "\n",
    "# Name the axes and give it a title.\n",
    "plt.xlabel('Invariant mass [GeV]')\n",
    "plt.ylabel('Number of events per bin')\n",
    "plt.title('Histogram of invariant masses for the events where the\\n pseudorapidity of both muons is large\\n')\n",
    "plt.show()\n"
   ]
  },
  {
   "cell_type": "markdown",
   "metadata": {},
   "source": [
    "### Histogram for the small $\\eta$ events"
   ]
  },
  {
   "cell_type": "markdown",
   "metadata": {},
   "source": [
    "Analogously, let us plot the histogram of the invariant masses for the events where the pseudorapidity of both muons is small."
   ]
  },
  {
   "cell_type": "code",
   "execution_count": null,
   "metadata": {},
   "outputs": [],
   "source": [
    "# Save the invariant masses to variable \"inv_mass2\".\n",
    "inv_mass2 = small_etas['M']\n",
    "\n",
    "# Jupyter Notebook uses \"magic functions\". With this function it is possible to plot\n",
    "# the histogram straight to notebook.\n",
    "%matplotlib inline\n",
    "\n",
    "# Create the histogram from data in variable \"inv_mass1\". Set bins and range.\n",
    "plt.hist(inv_mass2, bins=120, range=(60,120))\n",
    "\n",
    "# Set y-axis range from 0 to 60.\n",
    "axes = plt.gca()\n",
    "axes.set_ylim([0,60])\n",
    "\n",
    "# Name the axes and give it a title.\n",
    "plt.xlabel('Invariant mass [GeV]')\n",
    "plt.ylabel('Number of events per bin')\n",
    "plt.title('Histogram of invariant masses for the events where the\\n pseudorapidity of both muons is small\\n')\n",
    "plt.show()\n"
   ]
  },
  {
   "cell_type": "markdown",
   "metadata": {},
   "source": [
    "### 3) Exercise"
   ]
  },
  {
   "cell_type": "markdown",
   "metadata": {},
   "source": [
    "Now we have created from CMS data two histograms of the invariant masses. With the help of the histograms and the theory part of the notebook think about the following questions:\n",
    "\n",
    "__In which way you can see the effect of the pseudorapidity to the measurement resolution of the CMS detector?__\n",
    "\n",
    "__Do your results show the same as what the theory predicts?__\n",
    "\n",
    "After answering the questions you can try to change the conditions for the large and small pseudorapidities in the first code cell. The conditions are named _cond1_ and _cond2_. Make sure you choose conditions in a way that there will be nearly the same amount of events in both of the groups.\n",
    "\n",
    "After the changes run the code again. How do the changes affect the number of events? What about the histograms?"
   ]
  },
  {
   "cell_type": "code",
   "execution_count": null,
   "metadata": {},
   "outputs": [],
   "source": []
  }
 ],
 "metadata": {
  "kernelspec": {
   "display_name": "Python 3",
   "language": "python",
   "name": "python3"
  },
  "language_info": {
   "codemirror_mode": {
    "name": "ipython",
    "version": 3
   },
   "file_extension": ".py",
   "mimetype": "text/x-python",
   "name": "python",
   "nbconvert_exporter": "python",
   "pygments_lexer": "ipython3",
   "version": "3.8.5"
  }
 },
 "nbformat": 4,
 "nbformat_minor": 1
}
