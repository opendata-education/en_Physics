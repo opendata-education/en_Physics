{
 "cells": [
  {
   "cell_type": "markdown",
   "metadata": {},
   "source": [
    "# Calculating the invariant mass"
   ]
  },
  {
   "cell_type": "markdown",
   "metadata": {},
   "source": [
    "In this example we show how to calculate the __invariant mass__ with the CMS open data. The invariant mass is an important concept for particle physicists when looking for new particles."
   ]
  },
  {
   "cell_type": "markdown",
   "metadata": {},
   "source": [
    "## What is the invariant mass?\n",
    "Particles have a mass that describes their inertia. It is the same mass $m$ that is used in Newton's second law $F=ma$ and Einstein's equation $E=mc^2$ (where E means the energy of the particle at rest). It is impossible to measure e.g. Higgs boson, whose mean lifetime is in the order of $10^{-22}$ seconds [4]. When a particle such as the Higgs boson decays, new particles are formed. The new particles may move at very high speeds and may even not have a mass (e.g. photons). However, a device such as CMS can measure the momentum and energy of these particles, from which we can calculate the _invariant mass_. It is a property that is \"invariant\" to the environment it's measured in. If it is calculated to two particles that come from another particle, we achieve a value that is close to the mass of the original particle. For example, the Higgs boson can decay into four electrons, whose momentum and energy we can measure with a detector. From these we can calculate the invariant mass, which would correspond to the mass of the Higgs boson, since the electrons come from Higgs.\n",
    "\n",
    "The invariant mass is conserved when a particle decays into other particles, which makes it an unbeatable tool for particle physics. A detector such as the CMS detects mostly stable particles. In order to determine which decay processes produce these stable particles, researchers must analyze large amounts of data. We can calculate the invariant mass to multiple different events and make a histogram out of our calculated values.\n",
    "\n",
    "Below we have a histogram of the invariant mass of collisions where a detector has registered two muons. The spikes in the histogram correspond to the different particles the muons decay from.\n",
    "\n",
    "<br>\n",
    " <img src=\"https://github.com/cms-opendata-education/cms-jupyter-materials-finnish/blob/master/Kuvat/inv_massa.PNG?raw=true\"  align=\"left\" width=\"600px\" title=[Figure 1]>\n",
    " <br>"
   ]
  },
  {
   "cell_type": "markdown",
   "metadata": {},
   "source": [
    "### Getting the data"
   ]
  },
  {
   "cell_type": "code",
   "execution_count": null,
   "metadata": {},
   "outputs": [],
   "source": [
    "# Import the necessary modules. Pandas is for the data-analysis and numpy for scientific calculation.\n",
    "# Name these to \"pd\" and \"np\".\n",
    "import pandas as pd\n",
    "import numpy as np\n",
    "\n",
    "# \n",
    "# Create a new DataFrame structure and save it in the file 'dataset'. \n",
    "# Data can be obtained from a file with the read_csv() -function. Inside the parentheses, we write the path of the file.\n",
    "# In this case, we use a web address.\n",
    "dataset = pd.read_csv('http://opendata.cern.ch/record/307/files/Zmumu.csv')"
   ]
  },
  {
   "cell_type": "markdown",
   "metadata": {},
   "source": [
    "We can check the content that we saved to the variable _dataset_ by printing the 5 first rows with the *head()*-function:"
   ]
  },
  {
   "cell_type": "code",
   "execution_count": null,
   "metadata": {},
   "outputs": [],
   "source": [
    "dataset.head()"
   ]
  },
  {
   "cell_type": "markdown",
   "metadata": {},
   "source": [
    "The data has multiple events, each of which contain multiple values. The most important variables for our purposes are:\n",
    "- **Run**: The run number of the event\n",
    "- **Event**: The event number. An event is a collision of particles occurring in the detector.\n",
    "- **E**: the energy of the muon (1 or 2).\n",
    "- **px,py,pz**: the components of the momentum of the muon."
   ]
  },
  {
   "cell_type": "markdown",
   "metadata": {},
   "source": [
    "### Performing the calculation"
   ]
  },
  {
   "cell_type": "markdown",
   "metadata": {},
   "source": [
    "Let us use the following expression for the invariant mass $M$ in the calculation:\n",
    "\n",
    "$$ M = \\sqrt{(E_1 + E_2)^2 - \\|\\textbf{p}_1 + \\textbf{p}_2 \\| ^2} = \\sqrt{(E_1+E_2)^2-((p_{1_x}+p_{2_x})^2+(p_{1_y}+p_{2_y})^2+(p_{1_z}+p_{2_z})^2)},$$\n",
    "\n",
    "where $\\textbf{p}$ contains all the components of the momentum. The equation above gives us the precise value of the invariant mass, so let's use it when possible.\n",
    "\n",
    "However, some datasets son't have the components of the momentum in them. In this case, we can use an approximation that works in situations where E >> m (as is often the case in particle detectors):\n",
    "\n",
    "$$M = \\sqrt{2p_{T1}p_{T2}(\\cosh(\\eta_1-\\eta_2)-\\cos(\\phi_1-\\phi_2))}.$$\n",
    "\n",
    "In the expression $p_T$ is the component of the momentum which is perpendicular to the beam axis, $\\eta$ is the pseudorapidity (angle) and $\\phi$ the azimuthal angle.\n",
    "\n",
    "In the calculation below we will use the _numpy_ module which was named as _np_ in the first code cell. With _numpy_ it is possible to use mathematical commands like _sqrt_ and _cosh_ by calling first the name of the module (_np_) and then the command separated by a dot. So for example, the square root can be called by writing _np.sqrt( )_.\n",
    "\n",
    "The _pt1_, _pt2_, _eta1_, _eta2_, _phi1_ and _phi2_ refer to the columns of the data. The code has to be told from where the values will be taken. So for example, if you want to get the column _pt1_, you have to write _dataset.pt1_.\n",
    "\n",
    "Now we are ready to calculate the values of the invariant masses for the different events. _Numpy_ will automatically calculate the values for all of the events when we give the calculation in the following form, so the equation given is calculated for all of the rows."
   ]
  },
  {
   "cell_type": "markdown",
   "metadata": {},
   "source": [
    "### Exercise: Calculate the invariant mass to all events and save it in the file 'invariant_mass'"
   ]
  },
  {
   "cell_type": "code",
   "execution_count": null,
   "metadata": {},
   "outputs": [],
   "source": [
    "# Write your code here"
   ]
  },
  {
   "cell_type": "markdown",
   "metadata": {},
   "source": [
    "After the calculation we can check which values were saved in the variable _invariant_mass_ by using the method _head()_:"
   ]
  },
  {
   "cell_type": "code",
   "execution_count": null,
   "metadata": {},
   "outputs": [],
   "source": [
    "# Write your code here"
   ]
  },
  {
   "cell_type": "markdown",
   "metadata": {},
   "source": [
    "Great, you have now calculated the invariant mass of the events! Next, we'd like to draw a histogram. More about this in the next part, \"Plotting the invariant mass histogram.\""
   ]
  },
  {
   "cell_type": "markdown",
   "metadata": {},
   "source": [
    "### Sources\n",
    "\n",
    "[1]  McCauley, Thomas; (2014). Z to two muons from 2010. CERN Open Data Portal. [DOI:10.7483/OPENDATA.CMS.XBN9.HFGT](http://doi.org/10.7483/OPENDATA.CMS.XBN9.HFGT)\n",
    "\n",
    "[2] Determination of the off-shell Higgs boson signal strength in the high-mass ZZ final state with the ATLAS detector.\n",
    "Url: https://atlas.cern/updates/physics-briefing/higgs-boson-s-shadow\n",
    "\n",
    "### Figures\n",
    "[Figure 1] HLT Dimuon Invariant Mass Distributions in 2017 and 2018 ( CMS DP-2018/055)\n",
    "Url: https://twiki.cern.ch/twiki/bin/view/CMSPublic/HLTDiMuon2017and2018"
   ]
  }
 ],
 "metadata": {
  "kernelspec": {
   "display_name": "Python 3 (ipykernel)",
   "language": "python",
   "name": "python3"
  },
  "language_info": {
   "codemirror_mode": {
    "name": "ipython",
    "version": 3
   },
   "file_extension": ".py",
   "mimetype": "text/x-python",
   "name": "python",
   "nbconvert_exporter": "python",
   "pygments_lexer": "ipython3",
   "version": "3.9.12"
  }
 },
 "nbformat": 4,
 "nbformat_minor": 1
}
